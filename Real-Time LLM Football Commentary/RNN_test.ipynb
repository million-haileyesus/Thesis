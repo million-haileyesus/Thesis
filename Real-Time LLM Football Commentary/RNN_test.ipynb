{
 "cells": [
  {
   "cell_type": "code",
   "execution_count": null,
   "id": "5be97d3b",
   "metadata": {
    "ExecuteTime": {
     "end_time": "2024-12-03T21:37:00.337913Z",
     "start_time": "2024-12-03T21:37:00.333389Z"
    }
   },
   "outputs": [],
   "source": [
    "import copy\n",
    "import json\n",
    "import numpy as np\n",
    "import pandas as pd\n",
    "import pickle\n",
    "import seaborn as sns\n",
    "import torch\n",
    "import torchvision.transforms as transforms\n",
    "import torch.nn as nn\n",
    "import torch.optim as optim\n",
    "import warnings\n",
    "from preprocessing import PreProcessing\n",
    "from imblearn.over_sampling import SMOTE, RandomOverSampler, BorderlineSMOTE\n",
    "from imblearn.combine import SMOTEENN\n",
    "from matplotlib import pyplot as plt\n",
    "from sklearn.preprocessing import LabelEncoder, OneHotEncoder, StandardScaler\n",
    "from torch.utils.data import DataLoader, Dataset\n",
    "from tqdm import tqdm"
   ]
  },
  {
   "cell_type": "markdown",
   "id": "48b83de2-fb6f-49f0-a6b8-ae6cb5800e98",
   "metadata": {},
   "source": [
    "## You'll see the data goes from 0 to 1 on each axis. The coordiante (0,0) is the top left, (1,1) is the bottom right, and (0.5,0.5) is the kick off point."
   ]
  },
  {
   "cell_type": "code",
   "execution_count": null,
   "id": "d65f8849-be03-471a-918c-99bbc6a2f3a3",
   "metadata": {
    "ExecuteTime": {
     "end_time": "2024-12-03T15:47:00.358266Z",
     "start_time": "2024-12-03T15:46:57.610944Z"
    }
   },
   "outputs": [],
   "source": [
    "game_1_pre = PreProcessing()\n",
    "game_1_data = game_1_pre.load_and_process_data(data_home=\"data/Sample_Game_1/Sample_Game_1_RawTrackingData_Home_Team.csv\", data_away=\"data/Sample_Game_1/Sample_Game_1_RawTrackingData_Away_Team.csv\", \n",
    "                                               add_ball_data=True, half_period=\"both\")"
   ]
  },
  {
   "cell_type": "code",
   "execution_count": null,
   "id": "bd95a154-22f6-4acc-98eb-81d499cb2e72",
   "metadata": {
    "ExecuteTime": {
     "end_time": "2024-12-03T15:47:03.138274Z",
     "start_time": "2024-12-03T15:47:00.360262Z"
    }
   },
   "outputs": [],
   "source": [
    "game_2_pre = PreProcessing()\n",
    "game_2_data = game_2_pre.load_and_process_data(data_home=\"data/Sample_Game_2/Sample_Game_2_RawTrackingData_Home_Team.csv\", data_away=\"data/Sample_Game_2/Sample_Game_2_RawTrackingData_Away_Team.csv\", \n",
    "                                               add_ball_data=True, half_period=\"both\")"
   ]
  },
  {
   "cell_type": "code",
   "execution_count": null,
   "id": "51184de4-b816-49f0-83d9-2ba9c6f0cfde",
   "metadata": {},
   "outputs": [],
   "source": [
    "game_1_data"
   ]
  },
  {
   "cell_type": "code",
   "execution_count": null,
   "id": "d63f1f6f-02d4-4467-87a1-9810e85be976",
   "metadata": {
    "ExecuteTime": {
     "end_time": "2024-12-03T15:47:03.278936Z",
     "start_time": "2024-12-03T15:47:03.253733Z"
    }
   },
   "outputs": [],
   "source": [
    "game_2_data"
   ]
  },
  {
   "cell_type": "markdown",
   "id": "c52a6d5a-3fed-4638-ba94-899810ad536d",
   "metadata": {},
   "source": [
    "  "
   ]
  },
  {
   "cell_type": "markdown",
   "id": "76c60b53-0a2e-41b9-8eb1-8500a8e756e2",
   "metadata": {},
   "source": [
    "## Tracking for individual Players for the First Period"
   ]
  },
  {
   "cell_type": "code",
   "execution_count": null,
   "id": "e4f5846d-6e5c-488a-99e5-5b67db1086bb",
   "metadata": {
    "ExecuteTime": {
     "end_time": "2024-12-03T15:47:37.355193Z",
     "start_time": "2024-12-03T15:47:14.414708Z"
    }
   },
   "outputs": [],
   "source": [
    "game_2_pre.player_tracking(game_2_data.iloc[2:3], players=[1,2,3,4,5,6,7,8,9,10,11], sides=[\"Home\"]*11, plot_ball=False)"
   ]
  },
  {
   "cell_type": "code",
   "execution_count": null,
   "id": "78c514bd",
   "metadata": {},
   "outputs": [],
   "source": [
    "# player_tracking(period_1_data)\n",
    "# player_tracking(period_1_data_home, [2])\n",
    "# player_tracking(period_1_data_home, [5])\n",
    "# player_tracking(period_1_data_home, [8])"
   ]
  },
  {
   "cell_type": "markdown",
   "id": "aa0d8e62-318a-4f9e-bf6a-c9223665b8ff",
   "metadata": {},
   "source": [
    " "
   ]
  },
  {
   "cell_type": "markdown",
   "id": "a2f0b101-e71a-408a-b8a6-50e863b7eedf",
   "metadata": {},
   "source": [
    "# Adding extra features to dataset"
   ]
  },
  {
   "cell_type": "code",
   "execution_count": null,
   "id": "e643f114-b31d-4d21-b3f7-0b70b3bff3e0",
   "metadata": {
    "ExecuteTime": {
     "end_time": "2024-12-03T15:48:51.768536Z",
     "start_time": "2024-12-03T15:48:51.492051Z"
    }
   },
   "outputs": [],
   "source": [
    "vel_acc_game_1_data = game_1_pre.vel_acc(game_1_data)\n",
    "vel_acc_game_2_data = game_2_pre.vel_acc(game_2_data)"
   ]
  },
  {
   "cell_type": "code",
   "execution_count": null,
   "id": "8a534499-b17a-4522-9772-20a6b948ad12",
   "metadata": {
    "ExecuteTime": {
     "end_time": "2024-12-03T15:48:52.003243Z",
     "start_time": "2024-12-03T15:48:51.963913Z"
    }
   },
   "outputs": [],
   "source": [
    "vel_acc_game_1_data"
   ]
  },
  {
   "cell_type": "code",
   "execution_count": null,
   "id": "d818d01a-6206-4840-bf0c-ffd5f7d3129b",
   "metadata": {
    "ExecuteTime": {
     "end_time": "2024-12-03T15:48:53.621259Z",
     "start_time": "2024-12-03T15:48:53.567581Z"
    }
   },
   "outputs": [],
   "source": [
    "vel_acc_game_2_data"
   ]
  },
  {
   "cell_type": "code",
   "execution_count": null,
   "id": "09bae5e4-16bf-4da1-98d1-de0bb176c9b0",
   "metadata": {
    "ExecuteTime": {
     "end_time": "2024-12-03T15:48:53.667077Z",
     "start_time": "2024-12-03T15:48:53.623255Z"
    }
   },
   "outputs": [],
   "source": [
    "game_1_ply_tra = vel_acc_game_1_data.iloc[:, 3:]\n",
    "game_2_ply_tra = vel_acc_game_2_data.iloc[:, 3:]"
   ]
  },
  {
   "cell_type": "code",
   "execution_count": null,
   "id": "58e5e593-c2f2-4d41-88de-997bdd234dee",
   "metadata": {
    "ExecuteTime": {
     "end_time": "2024-12-03T15:48:53.812072Z",
     "start_time": "2024-12-03T15:48:53.773728Z"
    }
   },
   "outputs": [],
   "source": [
    "game_2_ply_tra"
   ]
  },
  {
   "cell_type": "code",
   "execution_count": null,
   "id": "376bb6e4-788e-4f86-b154-b31f369445c9",
   "metadata": {
    "ExecuteTime": {
     "end_time": "2024-12-03T15:48:54.965210Z",
     "start_time": "2024-12-03T15:48:54.962515Z"
    }
   },
   "outputs": [],
   "source": [
    "# game_1_players, game_1_vel_acc = game_1_ply_tra.loc[:,\"Home-P_1-x\":\"Away-P_24-y\"], game_1_ply_tra.loc[:,\"P_1_velocity\":]\n",
    "# game_2_players, game_2_vel_acc = game_2_ply_tra.loc[:,\"Home-P_1-x\":\"Away-P_24-y\"], game_2_ply_tra.loc[:,\"P_1_velocity\":]"
   ]
  },
  {
   "cell_type": "code",
   "execution_count": null,
   "id": "b3f00099-5b2c-49b6-864c-8e3f13a19c63",
   "metadata": {
    "ExecuteTime": {
     "end_time": "2024-12-03T15:48:55.095427Z",
     "start_time": "2024-12-03T15:48:54.965210Z"
    }
   },
   "outputs": [],
   "source": [
    "game_1_player_data = game_1_pre.get_frames(game_1_ply_tra, columns=game_1_ply_tra.columns[0:46:2], frame=1000000, frame_interval=1000000).fillna(0)\n",
    "game_2_player_data = game_2_pre.get_frames(game_2_ply_tra, columns=game_2_ply_tra.columns[0:46:2], frame=1000000, frame_interval=1000000).fillna(0)"
   ]
  },
  {
   "cell_type": "code",
   "execution_count": null,
   "id": "e9fb8f86-151c-4d02-b6e5-428c8b597c96",
   "metadata": {},
   "outputs": [],
   "source": [
    "game_2_player_data"
   ]
  },
  {
   "cell_type": "markdown",
   "id": "122bbbb5-2b1e-4acf-975e-db3970dfeb5a",
   "metadata": {},
   "source": [
    " "
   ]
  },
  {
   "cell_type": "markdown",
   "id": "c353daa8-7465-428f-9b11-a8c7c2580f0d",
   "metadata": {},
   "source": [
    "# Classification"
   ]
  },
  {
   "cell_type": "code",
   "execution_count": null,
   "id": "29dd3bf1-ed9f-4d79-867b-c7d08f16aaa0",
   "metadata": {
    "ExecuteTime": {
     "end_time": "2024-12-03T15:48:57.556267Z",
     "start_time": "2024-12-03T15:48:57.553310Z"
    }
   },
   "outputs": [],
   "source": [
    "def change_player_name(data: pd.Series) -> pd.Series:\n",
    "    result = []\n",
    "    name = \"\"\n",
    "    for i in range(len(data)):\n",
    "        item = data.iloc[i]\n",
    "        if len(item) == 8:\n",
    "            if int(item[-2:]) < 12:\n",
    "                name = f\"Home-P_{item[-2:]}\"\n",
    "            else:\n",
    "                name = f\"Away-P_{item[-2:]}\"\n",
    "        else:\n",
    "            name = f\"Home-P_{item[-1:]}\"\n",
    "            \n",
    "        result.append(name)\n",
    "\n",
    "    return pd.Series(data=result, name=data.name)"
   ]
  },
  {
   "cell_type": "code",
   "execution_count": null,
   "id": "41cd7649-7860-4c12-b17c-9be5181a2826",
   "metadata": {
    "ExecuteTime": {
     "end_time": "2024-12-03T15:48:58.632859Z",
     "start_time": "2024-12-03T15:48:58.556328Z"
    }
   },
   "outputs": [],
   "source": [
    "game_1_event_data = pd.read_csv(\"data/Sample_Game_1/Sample_Game_1_RawEventsData.csv\")\n",
    "game_2_event_data = pd.read_csv(\"data/Sample_Game_2/Sample_Game_2_RawEventsData.csv\")"
   ]
  },
  {
   "cell_type": "code",
   "execution_count": null,
   "id": "6f1e98fc-e149-43e5-9dae-898852c5d893",
   "metadata": {
    "ExecuteTime": {
     "end_time": "2024-12-03T15:48:59.075559Z",
     "start_time": "2024-12-03T15:48:59.066773Z"
    }
   },
   "outputs": [],
   "source": [
    "game_1_event_data"
   ]
  },
  {
   "cell_type": "code",
   "execution_count": null,
   "id": "450aa500-d32c-4beb-b89a-cfc9f9896c92",
   "metadata": {},
   "outputs": [],
   "source": [
    "game_2_event_data"
   ]
  },
  {
   "cell_type": "code",
   "execution_count": null,
   "id": "79118de4-e40a-45ff-a4a0-113fab6f03a2",
   "metadata": {
    "ExecuteTime": {
     "end_time": "2024-12-03T15:48:59.513016Z",
     "start_time": "2024-12-03T15:48:59.509617Z"
    }
   },
   "outputs": [],
   "source": [
    "game_1_event_data = game_1_event_data[[\"Type\", \"Start Frame\", \"End Frame\", \"From\", \"To\"]]\n",
    "game_2_event_data = game_2_event_data[[\"Type\", \"Start Frame\", \"End Frame\", \"From\", \"To\"]]"
   ]
  },
  {
   "cell_type": "code",
   "execution_count": null,
   "id": "2077c78f-74c8-4052-b66d-32c265f4e5a9",
   "metadata": {
    "ExecuteTime": {
     "end_time": "2024-12-03T15:49:00.001591Z",
     "start_time": "2024-12-03T15:48:59.989282Z"
    }
   },
   "outputs": [],
   "source": [
    "game_1_event_data"
   ]
  },
  {
   "cell_type": "code",
   "execution_count": null,
   "id": "ae8fee0a-2c7c-4494-ac39-c48b8448e086",
   "metadata": {},
   "outputs": [],
   "source": [
    "def fix_events(event_dataset):\n",
    "    fixed_event_df = event_dataset.copy()\n",
    "    \n",
    "    start_frames = fixed_event_df[\"Start Frame\"].values\n",
    "    end_frames = fixed_event_df[\"End Frame\"].values\n",
    "    \n",
    "    conflict_indices = np.where(start_frames[1:] == end_frames[:-1])[0] + 1\n",
    "    \n",
    "    fixed_event_df.loc[fixed_event_df.index[conflict_indices], \"Start Frame\"] += 1\n",
    "    \n",
    "    return fixed_event_df"
   ]
  },
  {
   "cell_type": "code",
   "execution_count": null,
   "id": "8d2210cd-050e-44d8-afec-9a21b30e6b77",
   "metadata": {},
   "outputs": [],
   "source": [
    "game_1_event_data = fix_events(game_1_event_data)\n",
    "game_2_event_data = fix_events(game_2_event_data)"
   ]
  },
  {
   "cell_type": "code",
   "execution_count": null,
   "id": "0848fb04-7eb8-4492-a922-00c3ec787ed8",
   "metadata": {},
   "outputs": [],
   "source": [
    "game_1_event_data"
   ]
  },
  {
   "cell_type": "code",
   "execution_count": null,
   "id": "7e24c0c0-2793-4545-967c-b84d979e80c3",
   "metadata": {
    "ExecuteTime": {
     "end_time": "2024-12-03T15:49:13.513495Z",
     "start_time": "2024-12-03T15:49:00.350037Z"
    },
    "scrolled": true
   },
   "outputs": [],
   "source": [
    "start_frames = game_1_event_data[\"Start Frame\"].iloc[1:].to_numpy()\n",
    "end_frames = game_1_event_data[\"End Frame\"].iloc[1:].to_numpy()\n",
    "event_types = game_1_event_data[\"Type\"].iloc[1:].to_numpy()\n",
    "\n",
    "assert start_frames.shape == end_frames.shape == event_types.shape\n",
    "\n",
    "end = game_1_player_data.index[-1]\n",
    "end_frames = np.minimum(end_frames, end)\n",
    "\n",
    "frame_ranges = [np.arange(min(i, j), max(i, j) + 1) for i, j in zip(start_frames, end_frames)]\n",
    "unique_indices  = np.unique(np.concatenate(frame_ranges))\n",
    "game_1_event = pd.DataFrame(index=unique_indices, columns=[\"Type\"])\n",
    "\n",
    "for s, e, e_t in zip(start_frames, end_frames, event_types):\n",
    "    game_1_event.loc[s:e, \"Type\"] = e_t\n",
    "\n",
    "game_1_event = game_1_event.dropna()"
   ]
  },
  {
   "cell_type": "code",
   "execution_count": null,
   "id": "1425787c-c1fe-4df5-960a-90dca208070d",
   "metadata": {},
   "outputs": [],
   "source": [
    "game_1_event"
   ]
  },
  {
   "cell_type": "code",
   "execution_count": null,
   "id": "72604c12-f995-4f7e-8a86-a9687dbac071",
   "metadata": {
    "scrolled": true
   },
   "outputs": [],
   "source": [
    "start_frames = game_2_event_data[\"Start Frame\"].iloc[1:].to_numpy()\n",
    "end_frames = game_2_event_data[\"End Frame\"].iloc[1:].to_numpy()\n",
    "event_types = game_2_event_data[\"Type\"].iloc[1:].to_numpy()\n",
    "\n",
    "assert start_frames.shape == end_frames.shape == event_types.shape\n",
    "\n",
    "end = game_2_player_data.index[-1]\n",
    "end_frames = np.minimum(end_frames, end)\n",
    "\n",
    "frame_ranges = [np.arange(min(i, j), max(i, j) + 1) for i, j in zip(start_frames, end_frames)]\n",
    "unique_indices  = np.unique(np.concatenate(frame_ranges))\n",
    "game_2_event = pd.DataFrame(index=unique_indices, columns=[\"Type\"])\n",
    "\n",
    "for s, e, e_t in zip(start_frames, end_frames, event_types):\n",
    "    game_2_event.loc[s:e, \"Type\"] = e_t\n",
    "\n",
    "game_2_event = game_2_event.dropna()"
   ]
  },
  {
   "cell_type": "code",
   "execution_count": null,
   "id": "2112c6bf-bd05-4cd4-a36c-3bf65a69367f",
   "metadata": {},
   "outputs": [],
   "source": [
    "game_2_event"
   ]
  },
  {
   "cell_type": "code",
   "execution_count": null,
   "id": "90fd606d-0971-45a3-be29-3b3c71177c06",
   "metadata": {
    "ExecuteTime": {
     "end_time": "2024-12-03T21:37:16.379072Z",
     "start_time": "2024-12-03T21:37:16.365346Z"
    }
   },
   "outputs": [],
   "source": [
    "valid_indices = game_1_event.index.intersection(game_1_player_data.index)\n",
    "X_1 = game_1_player_data.loc[valid_indices]\n",
    "y_1 = game_1_event.loc[valid_indices, \"Type\"]"
   ]
  },
  {
   "cell_type": "code",
   "execution_count": null,
   "id": "50be4f64-a59b-49ab-a842-f6087307fb63",
   "metadata": {
    "ExecuteTime": {
     "end_time": "2024-12-03T21:37:17.461150Z",
     "start_time": "2024-12-03T21:37:17.445143Z"
    }
   },
   "outputs": [],
   "source": [
    "valid_indices = game_2_event.index.intersection(game_2_player_data.index)\n",
    "X_2 = game_2_player_data.loc[valid_indices]\n",
    "y_2 = game_2_event.loc[valid_indices, \"Type\"]"
   ]
  },
  {
   "cell_type": "code",
   "execution_count": null,
   "id": "cfbe395e-4b54-4b07-bf76-9c3017b9bf25",
   "metadata": {},
   "outputs": [],
   "source": [
    "X_1 = game_1_pre.expand_dataset(dataset=X_1, look_back=50)\n",
    "X_2 = game_2_pre.expand_dataset(dataset=X_2, look_back=50)\n",
    "\n",
    "y_1 = game_1_pre.expand_dataset(dataset=y_1, look_back=50)\n",
    "y_2 = game_2_pre.expand_dataset(dataset=y_2, look_back=50)"
   ]
  },
  {
   "cell_type": "code",
   "execution_count": null,
   "id": "2d67f1b9-0db1-4198-9fe0-9299ac09663b",
   "metadata": {
    "ExecuteTime": {
     "end_time": "2024-12-03T21:37:19.010006Z",
     "start_time": "2024-12-03T21:37:18.986165Z"
    }
   },
   "outputs": [],
   "source": [
    "X = pd.concat([X_1])#, X_2])\n",
    "y = y_1#np.concatenate((y_1, y_2))\n",
    "\n",
    "assert X.shape[0] == y.shape[0]"
   ]
  },
  {
   "cell_type": "code",
   "execution_count": null,
   "id": "57ae25cc-5418-4423-9873-e9d5e139ce6d",
   "metadata": {},
   "outputs": [],
   "source": [
    "np.unique(y, return_counts=True)"
   ]
  },
  {
   "cell_type": "code",
   "execution_count": null,
   "id": "786d421b-6524-4936-92b2-a43db228328c",
   "metadata": {
    "ExecuteTime": {
     "end_time": "2024-12-03T21:37:26.373717Z",
     "start_time": "2024-12-03T21:37:23.699116Z"
    }
   },
   "outputs": [],
   "source": [
    "sme = SMOTE(k_neighbors=1)\n",
    "X, y = sme.fit_resample(X, y)"
   ]
  },
  {
   "cell_type": "code",
   "execution_count": null,
   "id": "bd38ca55-4bbd-4758-9359-c0d1957fb27a",
   "metadata": {},
   "outputs": [],
   "source": [
    "X_res.shape"
   ]
  },
  {
   "cell_type": "code",
   "execution_count": null,
   "id": "f3d89bb5-2a24-41a8-9d7b-b3343b8295f1",
   "metadata": {
    "ExecuteTime": {
     "end_time": "2024-12-03T21:37:30.707943Z",
     "start_time": "2024-12-03T21:37:27.948989Z"
    }
   },
   "outputs": [],
   "source": [
    "splits = {\"X_train\": [], \"X_test\": [], \"y_train\": [], \"y_test\": []}\n",
    "scaled = {\"X_train\": [], \"X_test\": [], \"y_train\": [], \"y_test\": []}\n",
    "\n",
    "for i in range(5):\n",
    "    X_train, X_test, y_train, y_test = train_test_split(X, y, test_size=0.2)\n",
    "    \n",
    "    splits[\"X_train\"].append(X_train)\n",
    "    splits[\"X_test\"].append(X_test)\n",
    "    splits[\"y_train\"].append(y_train)\n",
    "    splits[\"y_test\"].append(y_test)\n",
    "    \n",
    "    scaler = StandardScaler()\n",
    "    X_train_scaled = scaler.fit_transform(X_train)\n",
    "    X_test_scaled = scaler.transform(X_test)\n",
    "    \n",
    "    # sme = SMOTE(n_jobs=-2, k_neighbors=1)\n",
    "    # X_train_res, y_train_res = sme.fit_resample(X_train_scaled, y_train)\n",
    "    \n",
    "    scaled[\"X_train\"].append(X_train_scaled)\n",
    "    scaled[\"X_test\"].append(X_test_scaled)\n",
    "    scaled[\"y_train\"].append(y_train)\n",
    "    scaled[\"y_test\"].append(y_test)\n"
   ]
  },
  {
   "cell_type": "code",
   "execution_count": null,
   "id": "7e17a99a-d865-4cda-bccd-11dab8b737a4",
   "metadata": {
    "ExecuteTime": {
     "end_time": "2024-12-03T21:37:31.934815Z",
     "start_time": "2024-12-03T21:37:31.931575Z"
    }
   },
   "outputs": [],
   "source": [
    "[i.shape for i in splits[\"X_train\"]]"
   ]
  },
  {
   "cell_type": "code",
   "execution_count": null,
   "id": "3354e66df8cf6935",
   "metadata": {
    "ExecuteTime": {
     "end_time": "2024-12-03T21:37:39.023320Z",
     "start_time": "2024-12-03T21:37:39.009794Z"
    }
   },
   "outputs": [],
   "source": [
    "for k, v in scaled.items():\n",
    "    for i in v:\n",
    "        print(k, i.shape)"
   ]
  },
  {
   "cell_type": "code",
   "execution_count": null,
   "id": "1a316abe-8072-4126-a1fd-9f4f5c20265f",
   "metadata": {
    "ExecuteTime": {
     "end_time": "2024-12-03T19:20:21.790882Z",
     "start_time": "2024-12-03T19:20:21.784758Z"
    }
   },
   "outputs": [],
   "source": [
    "warnings.filterwarnings(\"always\")"
   ]
  },
  {
   "cell_type": "code",
   "execution_count": null,
   "id": "f6df4448-deda-41e9-b3b6-14f1ca10b18e",
   "metadata": {
    "ExecuteTime": {
     "end_time": "2024-12-03T21:37:59.046345Z",
     "start_time": "2024-12-03T21:37:59.041385Z"
    }
   },
   "outputs": [],
   "source": [
    "def conf_matrix(y_train, y_train_pred, y_test, y_pred, labels, split, model_name=\"\"):\n",
    "    fig, ax = plt.subplots(figsize=(12, 10))\n",
    "    \n",
    "    cm_counts = confusion_matrix(y_test, y_pred, labels=labels)\n",
    "    cm_normalized = confusion_matrix(y_test, y_pred, labels=labels, normalize=\"true\")\n",
    "\n",
    "    annot = []\n",
    "    for i in range(len(cm_counts)):\n",
    "        row_annot = []\n",
    "        for j in range(len(cm_counts[i])):\n",
    "            row_annot.append(f\"{cm_counts[i, j]} | {cm_normalized[i, j]:.2f}\")\n",
    "        annot.append(row_annot)\n",
    "    \n",
    "    sns.heatmap(cm_normalized, \n",
    "                annot=annot,\n",
    "                fmt=\"\", \n",
    "                cmap=\"viridis\", \n",
    "                xticklabels=labels, \n",
    "                yticklabels=labels,\n",
    "                cbar_kws={\"label\": \"Normalized Frequency\"})\n",
    "\n",
    "    ax.set_xlabel(\"Predicted label\")\n",
    "    ax.set_ylabel(\"True label\")\n",
    "    ax.set_title(f\"{model_name.title()} Confusion Matrix Split #{(split+1)}\")\n",
    "    plt.tight_layout()\n",
    "    plt.show()\n",
    "    \n",
    "    train_accuracy = accuracy_score(y_train, y_train_pred)\n",
    "    test_accuracy = accuracy_score(y_test, y_pred)\n",
    "\n",
    "    print(f\"Split #{(split+1)} {model_name} training accuracy: {train_accuracy * 100:0.2f}%\")\n",
    "    print(f\"Split #{(split+1)} {model_name} testing accuracy: {test_accuracy * 100:0.2f}%\\n\")   "
   ]
  },
  {
   "cell_type": "code",
   "execution_count": null,
   "id": "b9ce5e9e-4e81-459e-a300-7e96f8a41654",
   "metadata": {},
   "outputs": [],
   "source": [
    "X_res.shape"
   ]
  },
  {
   "cell_type": "code",
   "execution_count": null,
   "id": "191ae91b-fc72-4fda-b57f-f59cece9bdc3",
   "metadata": {},
   "outputs": [],
   "source": []
  },
  {
   "cell_type": "code",
   "execution_count": null,
   "id": "d5ffb993-47f0-4737-ba7e-1a579bc526a2",
   "metadata": {},
   "outputs": [],
   "source": [
    "with open(\"model.pickle\", \"wb\") as f:\n",
    "    pickle.dump(model, f, pickle.HIGHEST_PROTOCOL)"
   ]
  },
  {
   "cell_type": "markdown",
   "id": "3ec8c90a-0f00-4aea-b8b5-153341a7017c",
   "metadata": {},
   "source": [
    " "
   ]
  },
  {
   "cell_type": "markdown",
   "id": "056d37a0-adf3-474c-934b-75de9a6b8b83",
   "metadata": {},
   "source": [
    "# New Dataset"
   ]
  },
  {
   "cell_type": "code",
   "execution_count": null,
   "id": "a4a517eb-4393-4ea8-9eaf-c96b8a717620",
   "metadata": {},
   "outputs": [],
   "source": [
    "new_data = pd.read_csv(\"data/Sample_Game_3/Sample_Game_3_tracking.txt\", sep=r\"[;,:]\", header=None, engine=\"python\")\n",
    "new_data.index =  range(1, len(new_data) + 1)"
   ]
  },
  {
   "cell_type": "code",
   "execution_count": null,
   "id": "4dc860e3-15dc-4867-867b-88cb8afcafce",
   "metadata": {},
   "outputs": [],
   "source": [
    "time = np.arange(0.04, (len(new_data) + 1) * 0.04, 0.04).round(2)\n",
    "new_data.insert(1, \"Time [s]\", time)"
   ]
  },
  {
   "cell_type": "code",
   "execution_count": null,
   "id": "bde3e7c6-73e4-4418-9dfb-efe9185bc681",
   "metadata": {},
   "outputs": [],
   "source": [
    "columns = ['Frame', 'Time [s]', 'Home-Player11-x', 'Home-Player11-y', 'Home-Player1-x', 'Home-Player1-y', 'Home-Player2-x', 'Home-Player2-y',\n",
    "       'Home-Player3-x', 'Home-Player3-y', 'Home-Player4-x', 'Home-Player4-y', 'Home-Player5-x', 'Home-Player5-y', 'Home-Player6-x', 'Home-Player6-y',\n",
    "       'Home-Player7-x', 'Home-Player7-y', 'Home-Player8-x', 'Home-Player8-y', 'Home-Player9-x', 'Home-Player9-y', 'Home-Player10-x',\n",
    "       'Home-Player10-y', 'Away-Player25-x', 'Away-Player25-y', 'Away-Player15-x', 'Away-Player15-y', 'Away-Player16-x',\n",
    "       'Away-Player16-y', 'Away-Player17-x', 'Away-Player17-y', 'Away-Player18-x', 'Away-Player18-y', 'Away-Player19-x',\n",
    "       'Away-Player19-y', 'Away-Player20-x', 'Away-Player20-y', 'Away-Player21-x', 'Away-Player21-y', 'Away-Player22-x',\n",
    "       'Away-Player22-y', 'Away-Player23-x', 'Away-Player23-y', 'Away-Player24-x', 'Away-Player24-y', \"Ball-x\", \"Ball-y\"]\n",
    "\n",
    "new_data.columns = columns"
   ]
  },
  {
   "cell_type": "code",
   "execution_count": null,
   "id": "9d77887e-39ca-4345-b470-40bfe34cda26",
   "metadata": {},
   "outputs": [],
   "source": [
    "new_data"
   ]
  },
  {
   "cell_type": "code",
   "execution_count": null,
   "id": "05a3992b-5679-46cb-9cee-5ea0c4afaaf9",
   "metadata": {},
   "outputs": [],
   "source": [
    "vel_acc_new_data = game_1_pre.vel_acc(new_data)\n",
    "vel_acc_new_data"
   ]
  },
  {
   "cell_type": "code",
   "execution_count": null,
   "id": "ca4ec8f0-fdd8-4991-93bb-05ae42127ae3",
   "metadata": {},
   "outputs": [],
   "source": [
    "new_data_ply_tra = vel_acc_new_data.iloc[:, 2:]\n",
    "new_data_ply_tra"
   ]
  },
  {
   "cell_type": "code",
   "execution_count": null,
   "id": "829ebfb4-1e8e-4f91-ba43-643c4b846e05",
   "metadata": {},
   "outputs": [],
   "source": [
    "new_data_player_data = game_1_pre.get_frames(new_data_ply_tra, columns=new_data_ply_tra.columns[0:46:2], frame=1000000, frame_interval=1000000).fillna(0)\n",
    "new_data_player_data"
   ]
  },
  {
   "cell_type": "code",
   "execution_count": null,
   "id": "06c83ed3-6e99-4f7f-9f22-ff68feb10fe5",
   "metadata": {},
   "outputs": [],
   "source": [
    "with open(\"data/Sample_Game_3/Sample_Game_3_events.json\", \"r\") as f:\n",
    "    data = json.load(f)"
   ]
  },
  {
   "cell_type": "code",
   "execution_count": null,
   "id": "5b460f6a-6308-4027-a235-6e7f7c01ccf2",
   "metadata": {},
   "outputs": [],
   "source": [
    "type_ = np.array([])\n",
    "start_frame = np.array([])\n",
    "end_frame = np.array([])\n",
    "\n",
    "for i in data[\"data\"]:\n",
    "    t = i[\"type\"][\"name\"]\n",
    "    sf = i[\"start\"][\"frame\"]\n",
    "    ef = i[\"end\"][\"frame\"]\n",
    "\n",
    "    if t != \"CARRY\":   \n",
    "        type_ = np.append(type_, t)\n",
    "        start_frame = np.append(start_frame, sf)\n",
    "        end_frame = np.append(end_frame, ef)\n",
    "\n",
    "\n",
    "new_data_event_data = pd.DataFrame({\"Type\": type_, \"Start Frame\": start_frame.astype(np.int64), \"End Frame\": end_frame.astype(np.int64)})"
   ]
  },
  {
   "cell_type": "code",
   "execution_count": null,
   "id": "081ae379-30be-4e62-9cf5-82dc0a27b187",
   "metadata": {},
   "outputs": [],
   "source": [
    "new_data_event_data"
   ]
  },
  {
   "cell_type": "code",
   "execution_count": null,
   "id": "17034e4a-12b3-4f33-be50-80ce462eec38",
   "metadata": {},
   "outputs": [],
   "source": [
    "new_data_event_data = fix_events(new_data_event_data)"
   ]
  },
  {
   "cell_type": "code",
   "execution_count": null,
   "id": "27dd3880-c223-4561-9f27-bdbbd2dbbce6",
   "metadata": {
    "scrolled": true
   },
   "outputs": [],
   "source": [
    "start_frames = new_data_event_data[\"Start Frame\"].iloc[1:].to_numpy()\n",
    "end_frames = new_data_event_data[\"End Frame\"].iloc[1:].to_numpy()\n",
    "event_types = new_data_event_data[\"Type\"].iloc[1:].to_numpy()\n",
    "\n",
    "assert start_frames.shape == end_frames.shape == event_types.shape\n",
    "\n",
    "end = new_data_player_data.index[-1]\n",
    "end_frames = np.minimum(end_frames, end)\n",
    "\n",
    "frame_ranges = [np.arange(min(i, j), max(i, j) + 1) for i, j in zip(start_frames, end_frames)]\n",
    "unique_indices  = np.unique(np.concatenate(frame_ranges))\n",
    "new_data_event = pd.DataFrame(index=unique_indices, columns=[\"Type\"])\n",
    "\n",
    "for s, e, e_t in zip(start_frames, end_frames, event_types):\n",
    "    new_data_event.loc[s:e, \"Type\"] = e_t\n",
    "\n",
    "new_data_event = new_data_event.dropna()"
   ]
  },
  {
   "cell_type": "code",
   "execution_count": null,
   "id": "d3382247-7bf4-4c6e-a3e9-234209d10ee4",
   "metadata": {},
   "outputs": [],
   "source": [
    "new_data_event"
   ]
  },
  {
   "cell_type": "code",
   "execution_count": null,
   "id": "beff9aec-64fb-4a1c-bfc2-4a97e7e83134",
   "metadata": {},
   "outputs": [],
   "source": [
    "new_data_event_data[new_data_event_data[\"Type\"] == \"SET PIECE\"]"
   ]
  },
  {
   "cell_type": "code",
   "execution_count": null,
   "id": "0ea430b6-a1b5-4720-9b43-b3fb1a4e6801",
   "metadata": {
    "scrolled": true
   },
   "outputs": [],
   "source": [
    "# with open(\"model.pickle\", \"rb\") as f:\n",
    "#     loaded_model = pickle.load(f)"
   ]
  },
  {
   "cell_type": "code",
   "execution_count": null,
   "id": "828b2a94-1109-4e44-99c9-43990ddf43e3",
   "metadata": {},
   "outputs": [],
   "source": [
    "valid_indices = new_data_event.index.intersection(new_data_player_data.index)\n",
    "X_new = new_data_player_data.loc[valid_indices]\n",
    "y_new = new_data_event.loc[valid_indices, \"Type\"]"
   ]
  },
  {
   "cell_type": "code",
   "execution_count": null,
   "id": "4279c270-3d36-4545-954c-31b9a4f64da2",
   "metadata": {},
   "outputs": [],
   "source": [
    "X_new = game_1_pre.expand_dataset(dataset=X_new, look_back=50)\n",
    "y_new = game_1_pre.expand_dataset(dataset=y_new, look_back=50)"
   ]
  },
  {
   "cell_type": "code",
   "execution_count": null,
   "id": "736ef8ff-e52b-46e9-92a5-53f7295c2937",
   "metadata": {},
   "outputs": [],
   "source": [
    "np.unique(y, return_counts=True)"
   ]
  },
  {
   "cell_type": "code",
   "execution_count": null,
   "id": "09e6fbba-6b18-4600-808b-dcc2c36d621c",
   "metadata": {},
   "outputs": [],
   "source": [
    "np.unique(y_2, return_counts=True)"
   ]
  },
  {
   "cell_type": "code",
   "execution_count": null,
   "id": "16fde9ff-22cb-4b1b-b23c-9475763d5623",
   "metadata": {},
   "outputs": [],
   "source": [
    "np.unique(y_new, return_counts=True)"
   ]
  },
  {
   "cell_type": "code",
   "execution_count": null,
   "id": "9d3acc82-d545-4681-b9f4-2dd51916ba2f",
   "metadata": {},
   "outputs": [],
   "source": [
    "label_encoder = LabelEncoder()\n",
    "y = label_encoder.fit_transform(y)\n",
    "# y_new = label_encoder.transform(y_new)\n",
    "y_2 = label_encoder.transform(y_2)"
   ]
  },
  {
   "cell_type": "code",
   "execution_count": null,
   "id": "84cb8861-3654-49e8-9012-48029b5c63b0",
   "metadata": {},
   "outputs": [],
   "source": [
    "print(X.shape)\n",
    "print(X_2.shape)\n",
    "# print(X_new.shape)"
   ]
  },
  {
   "cell_type": "code",
   "execution_count": null,
   "id": "0140e7e0-5770-445e-b1b4-2a5e93c5a759",
   "metadata": {},
   "outputs": [],
   "source": [
    "# TEMP SOLUTIONS\n",
    "X = X[:2132500]\n",
    "y = y[:2132500]\n",
    "\n",
    "X_2 = X_2[:2206100]\n",
    "y_2 = y_2[:2206100]\n",
    "\n",
    "# X_new = X_new[:57350]\n",
    "# y_new = y_new[:57350]"
   ]
  },
  {
   "cell_type": "code",
   "execution_count": null,
   "id": "0815d425-08ff-44d8-8109-93933cc1e254",
   "metadata": {},
   "outputs": [],
   "source": [
    "print(X.shape)\n",
    "print(X_2.shape)\n",
    "# print(X_new.shape)"
   ]
  },
  {
   "cell_type": "code",
   "execution_count": null,
   "id": "56597332-f652-4b30-ae94-e8fdd70b915c",
   "metadata": {},
   "outputs": [],
   "source": [
    "np.unique(y_new, return_counts=True)"
   ]
  },
  {
   "cell_type": "code",
   "execution_count": null,
   "id": "a59b1da2-f0c1-43e8-9cff-b8fddd2f92ba",
   "metadata": {},
   "outputs": [],
   "source": [
    "assert X_new.shape[0] == y_new.shape[0]"
   ]
  },
  {
   "cell_type": "code",
   "execution_count": null,
   "id": "4806c02b-bad1-43c0-8825-ee8cc137386d",
   "metadata": {},
   "outputs": [],
   "source": [
    "scaler = StandardScaler()\n",
    "X = scaler.fit_transform(X)\n",
    "# X_new = scaler.transform(X_new)\n",
    "X_2 = scaler.transform(X_2)"
   ]
  },
  {
   "cell_type": "code",
   "execution_count": null,
   "id": "4ea45574-11d8-481d-b251-4c0fd5954ef8",
   "metadata": {},
   "outputs": [],
   "source": [
    "device = torch.device(\"cuda\" if torch.cuda.is_available() else \"cpu\")\n",
    "device"
   ]
  },
  {
   "cell_type": "code",
   "execution_count": null,
   "id": "5ebaab75-0a18-41bf-9dd8-bd67e3b440a4",
   "metadata": {},
   "outputs": [],
   "source": [
    "np.unique(y).shape, np.unique(y_2).shape, np.unique(y_new).shape"
   ]
  },
  {
   "cell_type": "code",
   "execution_count": null,
   "id": "153b606e-7fb2-40fd-bd4b-be0da75645df",
   "metadata": {},
   "outputs": [],
   "source": [
    "assert X.shape[1] == X_2.shape[1]# == X_new.shape[1]\n",
    "# assert np.unique(y).shape == np.unique(y_2).shape == np.unique(y_new).shape\n",
    "\n",
    "input_size = X.shape[1]\n",
    "hidden_size = 256\n",
    "num_layers = 2\n",
    "num_classes = np.unique(y).shape[0]\n",
    "sequence_length = 50\n",
    "learning_rate = 0.001\n",
    "batch_size = 256\n",
    "num_epochs = 50"
   ]
  },
  {
   "cell_type": "code",
   "execution_count": null,
   "id": "ee1f2f8b-4921-401a-ab16-b7dfe424424d",
   "metadata": {},
   "outputs": [],
   "source": [
    "class LSTM(nn.Module):\n",
    "    def __init__(self, input_size, hidden_size, num_layers, num_classes):\n",
    "        super(LSTM, self).__init__()\n",
    "        self.hidden_size = hidden_size\n",
    "        self.num_layers = num_layers\n",
    "        self.lstm = nn.LSTM(input_size, hidden_size, num_layers, batch_first=True, dropout=0.2)\n",
    "        self.fc = nn.Linear(hidden_size * sequence_length, num_classes)\n",
    "        self.init_weights()\n",
    "\n",
    "    def init_weights(self):\n",
    "        # Initialize LSTM weights\n",
    "        for name, param in self.lstm.named_parameters():\n",
    "            if \"weight\" in name:\n",
    "                nn.init.xavier_uniform_(param)\n",
    "       \n",
    "        nn.init.xavier_uniform_(self.fc.weight)\n",
    "\n",
    "        if self.fc.bias is not None:\n",
    "            nn.init.zeros_(self.fc.bias)\n",
    "                    \n",
    "    def forward(self, x):\n",
    "        h0 = torch.zeros(self.num_layers, x.size(0), self.hidden_size).to(device)\n",
    "        c0 = torch.zeros(self.num_layers, x.size(0), self.hidden_size).to(device)\n",
    "\n",
    "        # Forward propagate LSTM\n",
    "        out, _ = self.lstm(x, (h0, c0))\n",
    "        out = out.reshape(out.shape[0], -1)\n",
    "        out = self.fc(out)\n",
    "        \n",
    "        return out"
   ]
  },
  {
   "cell_type": "code",
   "execution_count": null,
   "id": "108b6000-375e-4b7d-8bc2-3f2cb96d3305",
   "metadata": {},
   "outputs": [],
   "source": [
    "# Dataloader\n",
    "class CustomDataset(Dataset):\n",
    "    def __init__(self, features, labels):\n",
    "        # Convert pandas DataFrame/numpy arrays to PyTorch tensors\n",
    "        self.features = torch.tensor(features.values if hasattr(features, 'values') else features, \n",
    "                                     dtype=torch.float32)\n",
    "        self.labels = torch.tensor(labels.values if hasattr(labels, 'values') else labels, \n",
    "                                   dtype=torch.long)\n",
    "    \n",
    "    def __len__(self):\n",
    "        return len(self.features)\n",
    "    \n",
    "    def __getitem__(self, idx):\n",
    "        return self.features[idx], self.labels[idx]\n",
    "\n",
    "# Reshape the NumPy array\n",
    "X_reshaped = X.reshape(-1, sequence_length, input_size)\n",
    "X_2_reshaped = X_2.reshape(-1, sequence_length, input_size)\n",
    "# X_new_reshaped = X_new.reshape(-1, sequence_length, input_size)\n",
    "\n",
    "# Create DataLoaders\n",
    "training_dataset = CustomDataset(X_reshaped, y)\n",
    "validation_dataset = CustomDataset(X_2_reshaped, y_2)\n",
    "# testing_dataset = CustomDataset(X_new_reshaped, y_new)\n",
    "\n",
    "training_loader = DataLoader(\n",
    "    dataset=training_dataset, \n",
    "    batch_size=batch_size, \n",
    "    shuffle=False,\n",
    ")\n",
    "\n",
    "validation_loader = DataLoader(\n",
    "    dataset=validation_dataset, \n",
    "    batch_size=batch_size, \n",
    "    shuffle=False,\n",
    ")\n",
    "\n",
    "# testing_loader = DataLoader(\n",
    "#     dataset=testing_dataset, \n",
    "#     batch_size=batch_size, \n",
    "#     shuffle=False,\n",
    "# )"
   ]
  },
  {
   "cell_type": "code",
   "execution_count": null,
   "id": "724f6c57-8492-4304-bc8e-542507dbaba6",
   "metadata": {},
   "outputs": [],
   "source": [
    "model = LSTM(input_size=input_size, hidden_size=hidden_size, num_layers=num_layers, num_classes=num_classes).to(device)\n",
    "model"
   ]
  },
  {
   "cell_type": "code",
   "execution_count": null,
   "id": "863533ec-3789-4ff3-a4ca-986803ba5dfe",
   "metadata": {},
   "outputs": [],
   "source": [
    "criterion = nn.CrossEntropyLoss()\n",
    "optimizer = optim.Adam(model.parameters(), lr=learning_rate)\n",
    "\n",
    "for epoch in range(num_epochs):\n",
    "    train_acc = 0\n",
    "    val_acc = 0\n",
    "    \n",
    "    model.train()\n",
    "    \n",
    "    for data, label in training_loader:\n",
    "        data, label = data.to(device), label.to(device)\n",
    "        \n",
    "        optimizer.zero_grad()\n",
    "        \n",
    "        outputs = model(data)\n",
    "        \n",
    "        loss = criterion(outputs, label)\n",
    "        loss.backward()\n",
    "        optimizer.step()\n",
    "        \n",
    "        _, pred = torch.max(outputs, 1)\n",
    "        train_acc += (pred == label).sum().item()\n",
    "\n",
    "    train_acc /= len(training_loader.dataset)\n",
    "\n",
    "    model.eval()\n",
    "    with torch.no_grad():\n",
    "        for data, label in validation_loader:\n",
    "            data, label = data.to(device), label.to(device)\n",
    "        \n",
    "            outputs = model(data)\n",
    "            \n",
    "            _, pred = torch.max(outputs.data, 1)\n",
    "            val_acc += (pred == label).sum().item()\n",
    "\n",
    "    val_acc /= len(validation_loader.dataset)\n",
    "    \n",
    "    print(f\"Epoch[{epoch + 1}] | training accuracy: {train_acc * 100:0.2f}% | validation accuracy: {val_acc * 100:0.2f}%\")"
   ]
  },
  {
   "cell_type": "code",
   "execution_count": null,
   "id": "86bd8401-5be4-4353-9e76-771167cb6325",
   "metadata": {},
   "outputs": [],
   "source": [
    "test_acc = 0\n",
    "\n",
    "model.eval()\n",
    "\n",
    "with torch.no_grad():\n",
    "    for data, label in testing_loader:\n",
    "        data, label = data.to(device), label.to(device)\n",
    "        \n",
    "        outputs = model(data)\n",
    "        \n",
    "        _, pred = torch.max(outputs.data, 1)\n",
    "        test_acc += (pred == label).sum().item()\n",
    "\n",
    "    test_acc /= len(testing_loader.dataset)\n",
    "\n",
    "print(f\"Accuracy on test set: {test_acc * 100:.2f}%\")"
   ]
  },
  {
   "cell_type": "code",
   "execution_count": null,
   "id": "fd11f909-7040-4931-8c3c-8c2b1807a561",
   "metadata": {},
   "outputs": [],
   "source": []
  },
  {
   "cell_type": "code",
   "execution_count": null,
   "id": "42de49cc-be53-44e2-8e75-1fee23cbc81d",
   "metadata": {},
   "outputs": [],
   "source": []
  },
  {
   "cell_type": "code",
   "execution_count": null,
   "id": "f5c77021-fc12-4528-9c32-4419f3e32205",
   "metadata": {},
   "outputs": [],
   "source": []
  }
 ],
 "metadata": {
  "kernelspec": {
   "display_name": "Python 3 (ipykernel)",
   "language": "python",
   "name": "python3"
  },
  "language_info": {
   "codemirror_mode": {
    "name": "ipython",
    "version": 3
   },
   "file_extension": ".py",
   "mimetype": "text/x-python",
   "name": "python",
   "nbconvert_exporter": "python",
   "pygments_lexer": "ipython3",
   "version": "3.10.9"
  }
 },
 "nbformat": 4,
 "nbformat_minor": 5
}
